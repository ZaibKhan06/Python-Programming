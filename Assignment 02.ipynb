{
 "cells": [
  {
   "cell_type": "code",
   "execution_count": 3,
   "metadata": {},
   "outputs": [
    {
     "name": "stdout",
     "output_type": "stream",
     "text": [
      "Enter your Maths number = 95\n",
      "Enter your English number = 65\n",
      "Enter your Urdu number = 75\n",
      "Enter your Physics number = 92\n",
      "Enter your Chemistry number = 82\n",
      "A+\n"
     ]
    }
   ],
   "source": [
    "#Question 01\n",
    "Maths=int(input (\"Enter your Maths number = \"))\n",
    "Eng=int(input (\"Enter your English number = \"))\n",
    "Urdu=int(input (\"Enter your Urdu number = \"))\n",
    "Phy=int(input (\"Enter your Physics number = \"))\n",
    "Chem=int(input (\"Enter your Chemistry number = \"))\n",
    "per= (Maths+Eng+Urdu+Phy+Chem)/5\n",
    "#print(per)\n",
    "if per >=80 and per<100 :\n",
    "    print(\"A+\")\n",
    "elif per >=70 and per<80 :\n",
    "    print(\"A\")\n",
    "elif per >=60 and per<70 :\n",
    "    print(\"B\")\n",
    "elif per >=50 and per<60 :\n",
    "    print(\"C\")\n",
    "elif per >=40 and per<50 :\n",
    "    print(\"D\")\n",
    "elif per >=33 and per<40 :\n",
    "    print(\"E\")\n",
    "elif per >=0 and per<33 :\n",
    "    print(\"Fail\")\n",
    "else:\n",
    "    print(\"You have entered an inappropirate numbers\")"
   ]
  },
  {
   "cell_type": "code",
   "execution_count": 12,
   "metadata": {
    "scrolled": true
   },
   "outputs": [
    {
     "name": "stdout",
     "output_type": "stream",
     "text": [
      "Enter any integer = 97846513255463\n",
      "Your number is ODD\n"
     ]
    }
   ],
   "source": [
    "#Question 02\n",
    "n=int(input(\"Enter any integer = \"))\n",
    "if (n%2)==0:\n",
    "    print(\"Your number is EVEN\")\n",
    "elif (n%2)==1:\n",
    "    print(\"Your number is ODD\")\n",
    "else:\n",
    "    print(\"You have entered an invalid number\")"
   ]
  },
  {
   "cell_type": "code",
   "execution_count": 24,
   "metadata": {},
   "outputs": [
    {
     "name": "stdout",
     "output_type": "stream",
     "text": [
      "Your list length =  5\n",
      "Now your list length =  6\n"
     ]
    }
   ],
   "source": [
    "#Question 03\n",
    "list=[\"Jahanzaib\",\"Huzaifa\",4,False,81.35]\n",
    "print(\"Your list length = \",len(list))\n",
    "list.append(\"ABCD\")\n",
    "print(\"Now your list length = \",len(list))"
   ]
  },
  {
   "cell_type": "code",
   "execution_count": 5,
   "metadata": {},
   "outputs": [
    {
     "name": "stdout",
     "output_type": "stream",
     "text": [
      "Sum of numeric items is =  206\n"
     ]
    }
   ],
   "source": [
    "#Question 04\n",
    "list = [1,23,25,41,15,56,27,18,\"Joji\",\"Huzi\"]\n",
    "count = 0\n",
    "for num in list:\n",
    "    if(isinstance(num,int)):\n",
    "        count = count + num\n",
    "print(\"Sum of numeric items is = \",count)"
   ]
  },
  {
   "cell_type": "code",
   "execution_count": 8,
   "metadata": {},
   "outputs": [
    {
     "name": "stdout",
     "output_type": "stream",
     "text": [
      "Largest Number is = 9\n"
     ]
    }
   ],
   "source": [
    "#Question 05\n",
    "list = [1,2,3,4,5,6,7,8,9,0]\n",
    "print(\"Largest Number is =\",max(list))"
   ]
  },
  {
   "cell_type": "code",
   "execution_count": 9,
   "metadata": {},
   "outputs": [
    {
     "name": "stdout",
     "output_type": "stream",
     "text": [
      "1\n",
      "1\n",
      "2\n",
      "3\n",
      "4\n"
     ]
    }
   ],
   "source": [
    "#Question 06\n",
    "list = [1, 1, 2, 3, 4, 5, 8, 13, 12, 90, 81]\n",
    "for num in list:\n",
    "    if num < 5:\n",
    "        print(num)"
   ]
  }
 ],
 "metadata": {
  "kernelspec": {
   "display_name": "Python 3",
   "language": "python",
   "name": "python3"
  },
  "language_info": {
   "codemirror_mode": {
    "name": "ipython",
    "version": 3
   },
   "file_extension": ".py",
   "mimetype": "text/x-python",
   "name": "python",
   "nbconvert_exporter": "python",
   "pygments_lexer": "ipython3",
   "version": "3.7.4"
  }
 },
 "nbformat": 4,
 "nbformat_minor": 2
}
