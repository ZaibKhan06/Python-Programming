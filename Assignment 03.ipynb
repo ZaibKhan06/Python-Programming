{
 "cells": [
  {
   "cell_type": "code",
   "execution_count": 2,
   "metadata": {
    "scrolled": false
   },
   "outputs": [
    {
     "name": "stdout",
     "output_type": "stream",
     "text": [
      "Enter first value 5\n",
      "Enter operator /\n",
      "Enter second value 0\n",
      "Number Cannot be divided by ZERO\n"
     ]
    }
   ],
   "source": [
    "#Make a calculator using Python with addition, subtraction, multiplication, division and power.\n",
    "\n",
    "n1=int(input(\"Enter first value \"))\n",
    "op=input(\"Enter operator \")\n",
    "n2=int(input(\"Enter second value \"))\n",
    "\n",
    "if op == '+':\n",
    "    n=n1+n2\n",
    "    print(\"Answer is \",n)\n",
    "elif op == '-':\n",
    "    n=n1-n2\n",
    "    print(\"Answer is\",n)\n",
    "elif op == '*':\n",
    "    n=n1*n2\n",
    "    print(\"Answer is\",n)\n",
    "elif op == '/':\n",
    "    if n2==0:\n",
    "        print (\"Number Cannot be divided by ZERO\")\n",
    "    else:\n",
    "        n=n1/n2\n",
    "        print(\"Answer is\",n)\n",
    "elif op == '**':\n",
    "    n=n1**n2\n",
    "    print(\"Answer is\",n)    \n",
    "else:\n",
    "    print(\"You entered an invalid operator\")"
   ]
  },
  {
   "cell_type": "code",
   "execution_count": 5,
   "metadata": {},
   "outputs": [
    {
     "name": "stdout",
     "output_type": "stream",
     "text": [
      "Numeric value in list: 1\n",
      "Numeric value in list: 2\n",
      "Numeric value in list: 4\n",
      "Numeric value in list: 8\n",
      "Numeric value in list: 20\n"
     ]
    }
   ],
   "source": [
    "#Write a program to check if there is any numeric value in list using for loop\n",
    "\n",
    "list=[1,'a','b','c',2,'d',4,8,'r',20]\n",
    "for i in list:\n",
    "    if isinstance(i,int) in list:\n",
    "        print(\"Numeric value in list:\",i)"
   ]
  },
  {
   "cell_type": "code",
   "execution_count": 13,
   "metadata": {},
   "outputs": [
    {
     "name": "stdout",
     "output_type": "stream",
     "text": [
      "Default Dictionary:\n",
      " {'First Name': 'Jahanzaib', 'Last Name': 'Khan'}\n",
      "After Adding age to a dictionary:\n",
      " {'First Name': 'Jahanzaib', 'Last Name': 'Khan', 'age': 23}\n",
      "After Adding DOB to a dictionary:\n",
      " {'First Name': 'Jahanzaib', 'Last Name': 'Khan', 'age': 23, 'DOB': '23rd Nov'}\n"
     ]
    }
   ],
   "source": [
    "#Write a Python script to add a key to a dictionary\n",
    "\n",
    "dic1 ={\"First Name\":\"Jahanzaib\" , \"Last Name\":\"Khan\",}\n",
    "print(\"Default Dictionary:\\n\",dic1)\n",
    "\n",
    "#Now adding a key to a dictionary\n",
    "\n",
    "dic1[\"age\"] = 23\n",
    "print(\"After Adding age to a dictionary:\\n\",dic1)\n",
    "dic1[\"DOB\"] = '23rd Nov'\n",
    "print(\"After Adding DOB to a dictionary:\\n\",dic1)"
   ]
  },
  {
   "cell_type": "code",
   "execution_count": 20,
   "metadata": {},
   "outputs": [
    {
     "name": "stdout",
     "output_type": "stream",
     "text": [
      "130\n",
      "220\n",
      "30\n",
      "413\n",
      "332\n",
      "Sum = 1125\n"
     ]
    }
   ],
   "source": [
    "#Write a Python program to sum all the numeric items in a dictionary\n",
    "\n",
    "Today_sale = {\n",
    "    \"Handfree\": 130,\n",
    "    \"Charger\": 220,\n",
    "    \"power bank\": 30,\n",
    "    \"screen protector\":413,\n",
    "    \"Back Cover\":332\n",
    "}\n",
    "sum = 0\n",
    "\n",
    "for i in Today_sale:\n",
    "    print(Today_sale[i])\n",
    "    sum += Today_sale[i]\n",
    "\n",
    "print(\"Sum =\",sum)\n",
    "\n"
   ]
  },
  {
   "cell_type": "code",
   "execution_count": 24,
   "metadata": {},
   "outputs": [
    {
     "name": "stdout",
     "output_type": "stream",
     "text": [
      "Duplicated values are:\n",
      " [2, 3]\n"
     ]
    }
   ],
   "source": [
    "#Write a program to identify duplicate values in list\n",
    "\n",
    "list = [1,2,2,3,3,4]\n",
    "dup = []\n",
    "size = len(list)\n",
    "\n",
    "\n",
    "for i in range(size):\n",
    "    k = i+1\n",
    "    for j in range(k,size):\n",
    "        if list[i]==list[j] and list[i] not in dup:\n",
    "            dup.append(list[i])\n",
    "print(\"Duplicated values are:\\n\",dup)\n"
   ]
  },
  {
   "cell_type": "code",
   "execution_count": 26,
   "metadata": {},
   "outputs": [
    {
     "name": "stdout",
     "output_type": "stream",
     "text": [
      "Enter key: age\n",
      "Enter value: 23\n",
      "{'First Name': 'Jahanzaib', 'Last Name': 'Khan', 'Age': '23'}\n"
     ]
    }
   ],
   "source": [
    "#6. Write a Python script to check if a given key already exists in a dictionary\n",
    "dic1 = {\n",
    "    \"First Name\":\"Jahanzaib\",\n",
    "    \"Last Name\":\"Khan\",\n",
    "}\n",
    "\n",
    "key = input(\"Enter key: \")\n",
    "key = key.title()\n",
    "value = input(\"Enter value: \")\n",
    "\n",
    "if key not in dic1.keys():\n",
    "    dic1[key]=value\n",
    "    print(dic1)\n",
    "else:\n",
    "    print(\"Key Already Exist\")\n"
   ]
  }
 ],
 "metadata": {
  "kernelspec": {
   "display_name": "Python 3",
   "language": "python",
   "name": "python3"
  },
  "language_info": {
   "codemirror_mode": {
    "name": "ipython",
    "version": 3
   },
   "file_extension": ".py",
   "mimetype": "text/x-python",
   "name": "python",
   "nbconvert_exporter": "python",
   "pygments_lexer": "ipython3",
   "version": "3.7.4"
  }
 },
 "nbformat": 4,
 "nbformat_minor": 2
}
