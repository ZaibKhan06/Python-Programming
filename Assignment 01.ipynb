{
 "cells": [
  {
   "cell_type": "code",
   "execution_count": 20,
   "metadata": {},
   "outputs": [
    {
     "name": "stdout",
     "output_type": "stream",
     "text": [
      "Twinkle, twinkle, little star,\n",
      "\tHow I wonder what you are!\n",
      "\t\tUp above the world so high,\n",
      "\t\tLike a diamond in the sky.\n",
      "Twinkle, twinkle, little star,\n",
      "\tHow I wonder what you are\n"
     ]
    }
   ],
   "source": [
    "#Question 01\n",
    "print (\"Twinkle, twinkle, little star,\")\n",
    "print (\"\\tHow I wonder what you are!\")\n",
    "print (\"\\t\\tUp above the world so high,\")\n",
    "print (\"\\t\\tLike a diamond in the sky.\")\n",
    "print (\"Twinkle, twinkle, little star,\")\n",
    "print (\"\\tHow I wonder what you are\")"
   ]
  },
  {
   "cell_type": "code",
   "execution_count": 31,
   "metadata": {},
   "outputs": [
    {
     "name": "stdout",
     "output_type": "stream",
     "text": [
      "Python Version:  3.7.4 (default, Aug  9 2019, 18:34:13) [MSC v.1915 64 bit (AMD64)]\n"
     ]
    }
   ],
   "source": [
    "#Question 02\n",
    "import sys\n",
    "print(\"Python Version: \",sys.version)\n"
   ]
  },
  {
   "cell_type": "code",
   "execution_count": 5,
   "metadata": {},
   "outputs": [
    {
     "name": "stdout",
     "output_type": "stream",
     "text": [
      "Today's Date & Time:  2019-11-02 20:31:37.599695\n"
     ]
    }
   ],
   "source": [
    "#Question 03\n",
    "import datetime\n",
    "print(\"Today's Date & Time: \",datetime.datetime.now())"
   ]
  },
  {
   "cell_type": "code",
   "execution_count": 39,
   "metadata": {},
   "outputs": [
    {
     "name": "stdout",
     "output_type": "stream",
     "text": [
      "Enter Radius: 3\n",
      "Area of circle is: 28.285714285714285\n"
     ]
    }
   ],
   "source": [
    "#Question 04\n",
    "r=int(input(\"Enter Radius: \"))\n",
    "area=(22/7)*r*r\n",
    "print(\"Area of circle is:\",area)"
   ]
  },
  {
   "cell_type": "code",
   "execution_count": 30,
   "metadata": {},
   "outputs": [
    {
     "name": "stdout",
     "output_type": "stream",
     "text": [
      "Enter First Name: Jahanzaib\n",
      "Enter Last Name: Khan\n",
      "Full name:  Jahanzaib Khan\n",
      "Reverse Name  nahK biaznahaJ\n"
     ]
    }
   ],
   "source": [
    "#Question 05 \n",
    "first=input (\"Enter First Name: \")\n",
    "last=input (\"Enter Last Name: \")\n",
    "print(\"Full name: \",concat)\n",
    "concat=first+\" \"+last\n",
    "print(\"Reverse Name \",concat[::-1])"
   ]
  },
  {
   "cell_type": "code",
   "execution_count": 22,
   "metadata": {
    "scrolled": true
   },
   "outputs": [
    {
     "name": "stdout",
     "output_type": "stream",
     "text": [
      "Enter first number 60\n",
      "Enter second number 40\n",
      "Sum of these two given numbers = 100\n"
     ]
    }
   ],
   "source": [
    "#Question 06\n",
    "n1=int(input (\"Enter first number \"))\n",
    "n2=int(input (\"Enter second number \"))\n",
    "sum=n1+n2\n",
    "print (\"Sum of these two given numbers =\",sum)"
   ]
  },
  {
   "cell_type": "code",
   "execution_count": null,
   "metadata": {},
   "outputs": [],
   "source": []
  }
 ],
 "metadata": {
  "kernelspec": {
   "display_name": "Python 3",
   "language": "python",
   "name": "python3"
  },
  "language_info": {
   "codemirror_mode": {
    "name": "ipython",
    "version": 3
   },
   "file_extension": ".py",
   "mimetype": "text/x-python",
   "name": "python",
   "nbconvert_exporter": "python",
   "pygments_lexer": "ipython3",
   "version": "3.7.4"
  }
 },
 "nbformat": 4,
 "nbformat_minor": 2
}
